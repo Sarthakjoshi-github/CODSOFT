{
 "cells": [
  {
   "cell_type": "markdown",
   "id": "f2f67501",
   "metadata": {},
   "source": [
    "# Face Detection Using Haar Cascade"
   ]
  },
  {
   "cell_type": "markdown",
   "id": "7d12fa27",
   "metadata": {},
   "source": [
    "### For Image Face Detection: "
   ]
  },
  {
   "cell_type": "code",
   "execution_count": 10,
   "id": "711a724b",
   "metadata": {},
   "outputs": [
    {
     "name": "stdout",
     "output_type": "stream",
     "text": [
      "()\n"
     ]
    }
   ],
   "source": [
    "import cv2\n",
    "\n",
    "\n",
    "face_cascade = cv2.CascadeClassifier('C:/Users/DELL/AppData/Roaming/Python/Python311/site-packages/cv2/data/haarcascade_frontalface_default.xml')\n",
    "\n",
    "\n",
    "def detect_faces(image_path):\n",
    "    img = cv2.imread(image_path)\n",
    "    gray = cv2.cvtColor(img, cv2.COLOR_BGR2GRAY)\n",
    "    faces = face_cascade.detectMultiScale(gray, scaleFactor=1.3, minNeighbors=5)\n",
    "    return img, faces\n",
    "\n",
    "def draw_faces(image, faces):\n",
    "    for (x, y, w, h) in faces:\n",
    "        cv2.rectangle(image, (x, y), (x+w, y+h), (0, 0, 255), 2)\n",
    "\n",
    "image_path = 'face_grp1 (1).jpg'                    #change the number in braket to get another number eg: face_grp1 (2).jpg \n",
    "img, detected_faces = detect_faces(image_path)\n",
    "print(detected_faces)\n",
    "\n",
    "draw_faces(img, detected_faces)\n",
    "\n",
    "cv2.imshow('Detected Faces', img)\n",
    "cv2.waitKey(0)\n",
    "cv2.destroyAllWindows()\n"
   ]
  },
  {
   "cell_type": "markdown",
   "id": "6140f7c4",
   "metadata": {},
   "source": [
    "### For Video Face Detection: "
   ]
  },
  {
   "cell_type": "code",
   "execution_count": 8,
   "id": "50404130",
   "metadata": {},
   "outputs": [],
   "source": [
    "import cv2\n",
    "\n",
    "# Replace with the actual path to haarcascade_frontalface_default.xml\n",
    "cascade_path = 'C:/Users/DELL/AppData/Roaming/Python/Python311/site-packages/cv2/data/haarcascade_frontalface_default.xml'\n",
    "\n",
    "# Create CascadeClassifier and check if it's loaded successfully\n",
    "face_cascade = cv2.CascadeClassifier(cascade_path)\n",
    "if face_cascade.empty():\n",
    "    print(\"Error: Unable to load the cascade classifier.\")\n",
    "    exit()\n",
    "\n",
    "# Video source (0 for default camera, or provide the path to a video file)\n",
    "#video_source = \"C:/Users/DELL/OneDrive/Desktop/Sarthaka/INTERNSHIP/CODSOFT/Face Recognition/face_grp1_vdo.mp4\"  \n",
    "video_source = 0 #to open camera\n",
    "# You can change this to the path of your video file\n",
    "\n",
    "# Create VideoCapture object\n",
    "cap = cv2.VideoCapture(video_source)\n",
    "\n",
    "while cap.isOpened():\n",
    "    # Read a frame from the video source\n",
    "    ret, frame = cap.read()\n",
    "    \n",
    "    if not ret:\n",
    "        break\n",
    "\n",
    "    # Convert the frame to grayscale for face detection\n",
    "    gray = cv2.cvtColor(frame, cv2.COLOR_BGR2GRAY)\n",
    "\n",
    "    # Perform face detection\n",
    "    faces = face_cascade.detectMultiScale(gray, scaleFactor=1.3, minNeighbors=5)\n",
    "\n",
    "    # Draw rectangles around the detected faces\n",
    "    for (x, y, w, h) in faces:\n",
    "        cv2.rectangle(frame, (x, y), (x+w, y+h), (0,0,255), 2)\n",
    "\n",
    "    # Display the resulting frame\n",
    "    cv2.imshow('Face Detection', frame)\n",
    "\n",
    "    # Break the loop when 'q' key is pressed\n",
    "    if cv2.waitKey(1) & 0xFF == ord('q'):\n",
    "        break\n",
    "\n",
    "# Release the VideoCapture and close all windows\n",
    "cap.release()\n",
    "cv2.destroyAllWindows()\n"
   ]
  }
 ],
 "metadata": {
  "kernelspec": {
   "display_name": "Python 3 (ipykernel)",
   "language": "python",
   "name": "python3"
  },
  "language_info": {
   "codemirror_mode": {
    "name": "ipython",
    "version": 3
   },
   "file_extension": ".py",
   "mimetype": "text/x-python",
   "name": "python",
   "nbconvert_exporter": "python",
   "pygments_lexer": "ipython3",
   "version": "3.11.5"
  }
 },
 "nbformat": 4,
 "nbformat_minor": 5
}
